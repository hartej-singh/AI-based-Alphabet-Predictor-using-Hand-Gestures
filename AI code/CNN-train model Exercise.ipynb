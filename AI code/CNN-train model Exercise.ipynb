{
 "cells": [
  {
   "cell_type": "markdown",
   "metadata": {},
   "source": [
    "HARTEJ SINGH - 19BCT0168"
   ]
  },
  {
   "cell_type": "markdown",
   "metadata": {},
   "source": [
    "Training Model"
   ]
  },
  {
   "cell_type": "code",
   "execution_count": 16,
   "metadata": {},
   "outputs": [],
   "source": [
    "from tensorflow.keras.models import Sequential\n",
    "from tensorflow.keras.layers import Dense, Convolution2D, MaxPooling2D, Flatten, Dropout"
   ]
  },
  {
   "cell_type": "code",
   "execution_count": 17,
   "metadata": {},
   "outputs": [],
   "source": [
    "from tensorflow.keras.preprocessing.image import ImageDataGenerator\n",
    "train_datagen = ImageDataGenerator(rescale = 1./255, shear_range=0.2, zoom_range=0.2, horizontal_flip=True)\n",
    "test_datagen = ImageDataGenerator(rescale = 1./255)"
   ]
  },
  {
   "cell_type": "code",
   "execution_count": 18,
   "metadata": {},
   "outputs": [
    {
     "name": "stdout",
     "output_type": "stream",
     "text": [
      "Found 27455 images belonging to 24 classes.\n",
      "Found 7172 images belonging to 24 classes.\n"
     ]
    }
   ],
   "source": [
    "x_train = train_datagen.flow_from_directory(r'E:\\VIT\\VIT_Internships\\AI-SmartBridge_IBM\\Assignments\\7 CNN model\\archive\\Train', target_size=(64,64), batch_size=32, class_mode=\"categorical\")\n",
    "x_test = test_datagen.flow_from_directory(r'E:\\VIT\\VIT_Internships\\AI-SmartBridge_IBM\\Assignments\\7 CNN model\\archive\\Test', target_size=(64,64), batch_size=32, class_mode=\"categorical\")"
   ]
  },
  {
   "cell_type": "code",
   "execution_count": 19,
   "metadata": {},
   "outputs": [
    {
     "data": {
      "text/plain": [
       "{'A': 0,\n",
       " 'B': 1,\n",
       " 'C': 2,\n",
       " 'D': 3,\n",
       " 'E': 4,\n",
       " 'F': 5,\n",
       " 'G': 6,\n",
       " 'H': 7,\n",
       " 'I': 8,\n",
       " 'K': 9,\n",
       " 'L': 10,\n",
       " 'M': 11,\n",
       " 'N': 12,\n",
       " 'O': 13,\n",
       " 'P': 14,\n",
       " 'Q': 15,\n",
       " 'R': 16,\n",
       " 'S': 17,\n",
       " 'T': 18,\n",
       " 'U': 19,\n",
       " 'V': 20,\n",
       " 'W': 21,\n",
       " 'X': 22,\n",
       " 'Y': 23}"
      ]
     },
     "execution_count": 19,
     "metadata": {},
     "output_type": "execute_result"
    }
   ],
   "source": [
    "x_train.class_indices"
   ]
  },
  {
   "cell_type": "code",
   "execution_count": 20,
   "metadata": {},
   "outputs": [],
   "source": [
    "model = Sequential()"
   ]
  },
  {
   "cell_type": "code",
   "execution_count": 21,
   "metadata": {},
   "outputs": [],
   "source": [
    "model.add(Convolution2D(32, (3,3), input_shape=(64,64,3)))"
   ]
  },
  {
   "cell_type": "code",
   "execution_count": 22,
   "metadata": {},
   "outputs": [],
   "source": [
    "model.add(MaxPooling2D((2,2)))"
   ]
  },
  {
   "cell_type": "code",
   "execution_count": 23,
   "metadata": {},
   "outputs": [],
   "source": [
    "model.add(Flatten())"
   ]
  },
  {
   "cell_type": "code",
   "execution_count": 24,
   "metadata": {},
   "outputs": [],
   "source": [
    "model.add(Dense(units=128, kernel_initializer=\"random_uniform\", activation = \"relu\"))"
   ]
  },
  {
   "cell_type": "code",
   "execution_count": 25,
   "metadata": {},
   "outputs": [],
   "source": [
    "model.add(Dense(units=24, kernel_initializer=\"random_uniform\", activation = \"softmax\"))"
   ]
  },
  {
   "cell_type": "code",
   "execution_count": 26,
   "metadata": {},
   "outputs": [],
   "source": [
    "model.compile(optimizer=\"adam\", loss=\"categorical_crossentropy\", metrics=\"accuracy\")"
   ]
  },
  {
   "cell_type": "code",
   "execution_count": 27,
   "metadata": {},
   "outputs": [
    {
     "name": "stdout",
     "output_type": "stream",
     "text": [
      "Epoch 1/10\n",
      "858/858 [==============================] - 209s 242ms/step - loss: 2.6188 - accuracy: 0.1648 - val_loss: 2.2289 - val_accuracy: 0.2790\n",
      "Epoch 2/10\n",
      "858/858 [==============================] - 172s 200ms/step - loss: 1.7922 - accuracy: 0.4089 - val_loss: 1.3216 - val_accuracy: 0.5724\n",
      "Epoch 3/10\n",
      "858/858 [==============================] - 188s 219ms/step - loss: 0.9413 - accuracy: 0.6888 - val_loss: 0.9295 - val_accuracy: 0.6747\n",
      "Epoch 4/10\n",
      "858/858 [==============================] - 177s 206ms/step - loss: 0.5116 - accuracy: 0.8326 - val_loss: 0.8168 - val_accuracy: 0.7465\n",
      "Epoch 5/10\n",
      "858/858 [==============================] - 177s 206ms/step - loss: 0.2931 - accuracy: 0.9052 - val_loss: 0.8765 - val_accuracy: 0.7508\n",
      "Epoch 6/10\n",
      "858/858 [==============================] - 178s 207ms/step - loss: 0.1892 - accuracy: 0.9398 - val_loss: 0.7476 - val_accuracy: 0.7729\n",
      "Epoch 7/10\n",
      "858/858 [==============================] - 186s 216ms/step - loss: 0.1397 - accuracy: 0.9554 - val_loss: 0.9866 - val_accuracy: 0.7658\n",
      "Epoch 8/10\n",
      "858/858 [==============================] - 186s 216ms/step - loss: 0.1152 - accuracy: 0.9635 - val_loss: 0.9037 - val_accuracy: 0.7953\n",
      "Epoch 9/10\n",
      "858/858 [==============================] - 188s 219ms/step - loss: 0.0893 - accuracy: 0.9718 - val_loss: 1.0104 - val_accuracy: 0.7968\n",
      "Epoch 10/10\n",
      "858/858 [==============================] - 187s 218ms/step - loss: 0.0799 - accuracy: 0.9735 - val_loss: 1.0695 - val_accuracy: 0.7916\n"
     ]
    },
    {
     "data": {
      "text/plain": [
       "<tensorflow.python.keras.callbacks.History at 0x157d87e9280>"
      ]
     },
     "execution_count": 27,
     "metadata": {},
     "output_type": "execute_result"
    }
   ],
   "source": [
    "model.fit(x_train, steps_per_epoch=858, epochs=10, validation_data=x_test, validation_steps=225)"
   ]
  },
  {
   "cell_type": "code",
   "execution_count": 28,
   "metadata": {},
   "outputs": [],
   "source": [
    "model.save(\"hand-sign-images.h5\")"
   ]
  },
  {
   "cell_type": "code",
   "execution_count": 29,
   "metadata": {},
   "outputs": [],
   "source": [
    "# accuracy is 97.35%\n",
    "# val_accuracy is 80% approx."
   ]
  },
  {
   "cell_type": "code",
   "execution_count": null,
   "metadata": {},
   "outputs": [],
   "source": []
  }
 ],
 "metadata": {
  "kernelspec": {
   "display_name": "Python 3",
   "language": "python",
   "name": "python3"
  },
  "language_info": {
   "codemirror_mode": {
    "name": "ipython",
    "version": 3
   },
   "file_extension": ".py",
   "mimetype": "text/x-python",
   "name": "python",
   "nbconvert_exporter": "python",
   "pygments_lexer": "ipython3",
   "version": "3.8.3"
  }
 },
 "nbformat": 4,
 "nbformat_minor": 4
}
